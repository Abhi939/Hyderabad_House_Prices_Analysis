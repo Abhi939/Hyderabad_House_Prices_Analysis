{
 "cells": [
  {
   "cell_type": "code",
   "execution_count": 1,
   "metadata": {},
   "outputs": [],
   "source": [
    "import pandas as pd\n",
    "import matplotlib.pyplot as plt\n",
    "import seaborn as sns\n",
    "import warnings\n",
    "warnings.filterwarnings('ignore')\n",
    "%matplotlib inline\n",
    "House_data = pd.read_csv('House_data_cleaned.csv', index_col=0)"
   ]
  },
  {
   "cell_type": "code",
   "execution_count": 2,
   "metadata": {},
   "outputs": [],
   "source": [
    "House_data.head()\n",
    "House_data.drop('Unnamed: 0.1',axis=1, inplace=True)"
   ]
  },
  {
   "cell_type": "code",
   "execution_count": 4,
   "metadata": {},
   "outputs": [],
   "source": [
    "for i in range(len(House_data)):\n",
    "    House_data.Bedrooms[i] = House_data.Bedrooms[i][0]"
   ]
  },
  {
   "cell_type": "code",
   "execution_count": 5,
   "metadata": {},
   "outputs": [
    {
     "data": {
      "text/html": [
       "<div>\n",
       "<style scoped>\n",
       "    .dataframe tbody tr th:only-of-type {\n",
       "        vertical-align: middle;\n",
       "    }\n",
       "\n",
       "    .dataframe tbody tr th {\n",
       "        vertical-align: top;\n",
       "    }\n",
       "\n",
       "    .dataframe thead th {\n",
       "        text-align: right;\n",
       "    }\n",
       "</style>\n",
       "<table border=\"1\" class=\"dataframe\">\n",
       "  <thead>\n",
       "    <tr style=\"text-align: right;\">\n",
       "      <th></th>\n",
       "      <th>Bedrooms</th>\n",
       "      <th>Bathrooms</th>\n",
       "      <th>Furnishing</th>\n",
       "      <th>Tennants</th>\n",
       "      <th>Area</th>\n",
       "      <th>Price</th>\n",
       "      <th>Locality</th>\n",
       "    </tr>\n",
       "  </thead>\n",
       "  <tbody>\n",
       "    <tr>\n",
       "      <th>0</th>\n",
       "      <td>3</td>\n",
       "      <td>2</td>\n",
       "      <td>Furnished</td>\n",
       "      <td>Bachelors/Family</td>\n",
       "      <td>1800 sqft</td>\n",
       "      <td>34,000</td>\n",
       "      <td>BhagyalaxmiNagar,Kavadiguda</td>\n",
       "    </tr>\n",
       "    <tr>\n",
       "      <th>1</th>\n",
       "      <td>3</td>\n",
       "      <td>2</td>\n",
       "      <td>Semi-Furnished</td>\n",
       "      <td>Family</td>\n",
       "      <td>2500 sqft</td>\n",
       "      <td>45,000</td>\n",
       "      <td>Gachibowli,OuterRingRoad</td>\n",
       "    </tr>\n",
       "    <tr>\n",
       "      <th>2</th>\n",
       "      <td>1</td>\n",
       "      <td>2</td>\n",
       "      <td>Furnished</td>\n",
       "      <td>Bachelors/Family</td>\n",
       "      <td>1477 sqft</td>\n",
       "      <td>18,000</td>\n",
       "      <td>Gachibowli</td>\n",
       "    </tr>\n",
       "    <tr>\n",
       "      <th>3</th>\n",
       "      <td>3</td>\n",
       "      <td>2</td>\n",
       "      <td>Furnished</td>\n",
       "      <td>Bachelors/Family</td>\n",
       "      <td>2160 sqft</td>\n",
       "      <td>40,000</td>\n",
       "      <td>Moosapet,NH</td>\n",
       "    </tr>\n",
       "    <tr>\n",
       "      <th>4</th>\n",
       "      <td>3</td>\n",
       "      <td>2</td>\n",
       "      <td>Semi-Furnished</td>\n",
       "      <td>Family</td>\n",
       "      <td>1580 sqft</td>\n",
       "      <td>23,000</td>\n",
       "      <td>RaghavendraColonykondapur</td>\n",
       "    </tr>\n",
       "  </tbody>\n",
       "</table>\n",
       "</div>"
      ],
      "text/plain": [
       "  Bedrooms  Bathrooms      Furnishing          Tennants       Area   Price  \\\n",
       "0        3          2       Furnished  Bachelors/Family  1800 sqft  34,000   \n",
       "1        3          2  Semi-Furnished            Family  2500 sqft  45,000   \n",
       "2        1          2       Furnished  Bachelors/Family  1477 sqft  18,000   \n",
       "3        3          2       Furnished  Bachelors/Family  2160 sqft  40,000   \n",
       "4        3          2  Semi-Furnished            Family  1580 sqft  23,000   \n",
       "\n",
       "                      Locality  \n",
       "0  BhagyalaxmiNagar,Kavadiguda  \n",
       "1     Gachibowli,OuterRingRoad  \n",
       "2                   Gachibowli  \n",
       "3                  Moosapet,NH  \n",
       "4    RaghavendraColonykondapur  "
      ]
     },
     "execution_count": 5,
     "metadata": {},
     "output_type": "execute_result"
    }
   ],
   "source": [
    "House_data.head()"
   ]
  },
  {
   "cell_type": "code",
   "execution_count": 9,
   "metadata": {},
   "outputs": [
    {
     "data": {
      "image/png": "[encoded data removed]",
      "text/plain": [
       "<Figure size 792x504 with 1 Axes>"
      ]
     },
     "metadata": {
      "needs_background": "light"
     },
     "output_type": "display_data"
    },
    {
     "data": {
      "image/png": "[encoded data removed]",
      "text/plain": [
       "<Figure size 792x504 with 1 Axes>"
      ]
     },
     "metadata": {
      "needs_background": "light"
     },
     "output_type": "display_data"
    },
    {
     "data": {
      "image/png": "[encoded data removed]",
      "text/plain": [
       "<Figure size 792x504 with 1 Axes>"
      ]
     },
     "metadata": {
      "needs_background": "light"
     },
     "output_type": "display_data"
    }
   ],
   "source": [
    "for col in ['Furnishing','Tennants','Bedrooms']:\n",
    "    plt.figure(figsize=(11,7))\n",
    "    sns.countplot(data =House_data,x = col)\n",
    "    plt.show()"
   ]
  },
  {
   "cell_type": "code",
   "execution_count": 10,
   "metadata": {},
   "outputs": [
    {
     "name": "stdout",
     "output_type": "stream",
     "text": [
      "Tennants          Furnishing    \n",
      "Bachelors         Unfurnished       125\n",
      "                  Semi-Furnished    122\n",
      "                  Furnished          27\n",
      "Bachelors/Family  Semi-Furnished    408\n",
      "                  Unfurnished       186\n",
      "                  Furnished         129\n",
      "Family            Semi-Furnished    121\n",
      "                  Furnished          30\n",
      "                  Unfurnished        23\n",
      "Name: Furnishing, dtype: int64\n"
     ]
    }
   ],
   "source": [
    "Slices= House_data.groupby('Tennants')['Furnishing'].value_counts()\n",
    "print(Slices)"
   ]
  }
 ],
 "metadata": {
  "kernelspec": {
   "display_name": "Python 3",
   "language": "python",
   "name": "python3"
  },
  "language_info": {
   "codemirror_mode": {
    "name": "ipython",
    "version": 3
   },
   "file_extension": ".py",
   "mimetype": "text/x-python",
   "name": "python",
   "nbconvert_exporter": "python",
   "pygments_lexer": "ipython3",
   "version": "3.6.8"
  }
 },
 "nbformat": 4,
 "nbformat_minor": 2
}
