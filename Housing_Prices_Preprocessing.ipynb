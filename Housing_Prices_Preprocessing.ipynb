{
 "cells": [
  {
   "cell_type": "code",
   "execution_count": 1,
   "metadata": {},
   "outputs": [],
   "source": [
    "import re\n",
    "import pandas as pd\n",
    "from statistics import mean\n",
    "import matplotlib.pyplot as plt\n",
    "import warnings\n",
    "warnings.filterwarnings('ignore')\n",
    "data = pd.read_csv('magics_brics_data.csv')"
   ]
  },
  {
   "cell_type": "code",
   "execution_count": 2,
   "metadata": {},
   "outputs": [],
   "source": [
    "def House_data_preprocessing(no_houses,mean_area,data):\n",
    "    for house in range(no_houses): \n",
    "        \n",
    "        # Preprocessing Price Data Values\n",
    "        data.Price[house] = re.sub(r'\\t','', data.Price[house])\n",
    "        data.Price[house] = re.sub(r'\\s+','',data.Price[house])\n",
    "        \n",
    "        # Preprocessing Bedrooms Data Values\n",
    "        data.Bedrooms[house] = re.sub(r'\\t','', data.Bedrooms[house])\n",
    "        data.Bedrooms[house] = re.sub(r'\\s+','',data.Bedrooms[house])  \n",
    "        if data.Bedrooms[house][0] not in ['1','2','3','4','5']:\n",
    "            data.Bedrooms[house] = '3BHKApartment'\n",
    "\n",
    "        # Preprocessing Bathroom data Values\n",
    "        if type(data.Bathrooms[house]) == float :\n",
    "            data.Bathrooms[house] = '2'\n",
    "            data.Bathrooms[house] = re.sub(r'\\t','', data.Bathrooms[house])\n",
    "            data.Bathrooms[house] = re.sub(r'\\s+','',data.Bathrooms[house])  \n",
    "        if data.Bathrooms[house][0] not in ['1','2','3','4','5']:\n",
    "            data.Bathrooms[house] = '2'\n",
    "        else : \n",
    "            data.Bathrooms[house] = data.Bathrooms[house][0]\n",
    "            \n",
    "        # Preprocessing Furnishing-type Values\n",
    "        if data.Furnishing[house] in [ 'Bachelors/Family' , 'Family','Immediately' ] :\n",
    "            data.Furnishing[house] = 'Semi-Furnished'\n",
    "            \n",
    "        # Preprocessing Tennants-Type Values\n",
    "        if data.Tennants[house] not in ['Bachelors/Family', 'Family', 'Bachelors' ] :\n",
    "            data.Tennants[house] = 'Bachelors/Family'\n",
    "            \n",
    "        # Preprocessing Area Values\n",
    "        if 'sqft' not in data.Area[house]:\n",
    "            data.Area[house] = '1477 sqft'\n",
    "            \n",
    "        # Preprocessing the Localtiy Values\n",
    "        data.Locality[house] = re.sub(r'\\t','',data.Locality[house])\n",
    "        data.Locality[house] = re.sub(r'\\s+','',data.Locality[house])  \n",
    "        \n",
    "    print(\"retruning Data to calling method....\")\n",
    "    return data\n",
    "    "
   ]
  },
  {
   "cell_type": "code",
   "execution_count": 3,
   "metadata": {},
   "outputs": [],
   "source": [
    "def Mean_area_houses(no_houses):\n",
    "    area = []\n",
    "    for house in range(no_houses) :\n",
    "        if type(data.Area[house]) == float :\n",
    "            data.Area[house] = 'readmore'\n",
    "        if 'sqft' in data.Area[house]:\n",
    "            area_ = re.findall(r'\\d+', data.Area[house])\n",
    "            area.append(int(area_[0]))\n",
    "    mean_area = mean(area)\n",
    "    return(mean_area)"
   ]
  },
  {
   "cell_type": "code",
   "execution_count": 4,
   "metadata": {},
   "outputs": [],
   "source": [
    "no_houses = len(data)\n",
    "mean_area = Mean_area_houses(no_houses)\n"
   ]
  },
  {
   "cell_type": "code",
   "execution_count": 5,
   "metadata": {},
   "outputs": [
    {
     "name": "stdout",
     "output_type": "stream",
     "text": [
      "retruning Data to calling method....\n"
     ]
    }
   ],
   "source": [
    "House_data = House_data_preprocessing(no_houses, mean_area, data)"
   ]
  },
  {
   "cell_type": "code",
   "execution_count": 6,
   "metadata": {},
   "outputs": [
    {
     "data": {
      "text/html": [
       "<div>\n",
       "<style scoped>\n",
       "    .dataframe tbody tr th:only-of-type {\n",
       "        vertical-align: middle;\n",
       "    }\n",
       "\n",
       "    .dataframe tbody tr th {\n",
       "        vertical-align: top;\n",
       "    }\n",
       "\n",
       "    .dataframe thead th {\n",
       "        text-align: right;\n",
       "    }\n",
       "</style>\n",
       "<table border=\"1\" class=\"dataframe\">\n",
       "  <thead>\n",
       "    <tr style=\"text-align: right;\">\n",
       "      <th></th>\n",
       "      <th>Unnamed: 0</th>\n",
       "      <th>Bedrooms</th>\n",
       "      <th>Bathrooms</th>\n",
       "      <th>Furnishing</th>\n",
       "      <th>Tennants</th>\n",
       "      <th>Area</th>\n",
       "      <th>Price</th>\n",
       "      <th>Locality</th>\n",
       "    </tr>\n",
       "  </thead>\n",
       "  <tbody>\n",
       "    <tr>\n",
       "      <th>0</th>\n",
       "      <td>0</td>\n",
       "      <td>3BHKBuilderFloor</td>\n",
       "      <td>2</td>\n",
       "      <td>Furnished</td>\n",
       "      <td>Bachelors/Family</td>\n",
       "      <td>1800 sqft</td>\n",
       "      <td>34,000</td>\n",
       "      <td>BhagyalaxmiNagar,Kavadiguda</td>\n",
       "    </tr>\n",
       "    <tr>\n",
       "      <th>1</th>\n",
       "      <td>1</td>\n",
       "      <td>3BHKApartment</td>\n",
       "      <td>2</td>\n",
       "      <td>Semi-Furnished</td>\n",
       "      <td>Family</td>\n",
       "      <td>2500 sqft</td>\n",
       "      <td>45,000</td>\n",
       "      <td>Gachibowli,OuterRingRoad</td>\n",
       "    </tr>\n",
       "    <tr>\n",
       "      <th>2</th>\n",
       "      <td>2</td>\n",
       "      <td>1BHKBuilderFloor</td>\n",
       "      <td>2</td>\n",
       "      <td>Furnished</td>\n",
       "      <td>Bachelors/Family</td>\n",
       "      <td>1477 sqft</td>\n",
       "      <td>18,000</td>\n",
       "      <td>Gachibowli</td>\n",
       "    </tr>\n",
       "    <tr>\n",
       "      <th>3</th>\n",
       "      <td>3</td>\n",
       "      <td>3BHKApartment</td>\n",
       "      <td>2</td>\n",
       "      <td>Furnished</td>\n",
       "      <td>Bachelors/Family</td>\n",
       "      <td>2160 sqft</td>\n",
       "      <td>40,000</td>\n",
       "      <td>Moosapet,NH</td>\n",
       "    </tr>\n",
       "    <tr>\n",
       "      <th>4</th>\n",
       "      <td>4</td>\n",
       "      <td>3BHKApartment</td>\n",
       "      <td>2</td>\n",
       "      <td>Semi-Furnished</td>\n",
       "      <td>Family</td>\n",
       "      <td>1580 sqft</td>\n",
       "      <td>23,000</td>\n",
       "      <td>RaghavendraColonykondapur</td>\n",
       "    </tr>\n",
       "  </tbody>\n",
       "</table>\n",
       "</div>"
      ],
      "text/plain": [
       "   Unnamed: 0          Bedrooms Bathrooms      Furnishing          Tennants  \\\n",
       "0           0  3BHKBuilderFloor         2       Furnished  Bachelors/Family   \n",
       "1           1     3BHKApartment         2  Semi-Furnished            Family   \n",
       "2           2  1BHKBuilderFloor         2       Furnished  Bachelors/Family   \n",
       "3           3     3BHKApartment         2       Furnished  Bachelors/Family   \n",
       "4           4     3BHKApartment         2  Semi-Furnished            Family   \n",
       "\n",
       "        Area   Price                     Locality  \n",
       "0  1800 sqft  34,000  BhagyalaxmiNagar,Kavadiguda  \n",
       "1  2500 sqft  45,000     Gachibowli,OuterRingRoad  \n",
       "2  1477 sqft  18,000                   Gachibowli  \n",
       "3  2160 sqft  40,000                  Moosapet,NH  \n",
       "4  1580 sqft  23,000    RaghavendraColonykondapur  "
      ]
     },
     "execution_count": 6,
     "metadata": {},
     "output_type": "execute_result"
    }
   ],
   "source": [
    "House_data.head()"
   ]
  },
  {
   "cell_type": "code",
   "execution_count": 7,
   "metadata": {},
   "outputs": [],
   "source": [
    "House_data.to_csv('House_data_cleaned.csv')"
   ]
  }
 ],
 "metadata": {
  "kernelspec": {
   "display_name": "Python 3",
   "language": "python",
   "name": "python3"
  },
  "language_info": {
   "codemirror_mode": {
    "name": "ipython",
    "version": 3
   },
   "file_extension": ".py",
   "mimetype": "text/x-python",
   "name": "python",
   "nbconvert_exporter": "python",
   "pygments_lexer": "ipython3",
   "version": "3.6.8"
  }
 },
 "nbformat": 4,
 "nbformat_minor": 2
}
